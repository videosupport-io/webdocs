{
 "cells": [
  {
   "cell_type": "code",
   "execution_count": 3,
   "id": "94db70d5-edc8-4689-ac9e-3908055e85db",
   "metadata": {},
   "outputs": [
    {
     "name": "stdout",
     "output_type": "stream",
     "text": [
      "Requirement already satisfied: bs4 in c:\\users\\gujaa\\pycharmprojects\\webdocs\\venv\\lib\\site-packages (0.0.1)\n",
      "Requirement already satisfied: beautifulsoup4 in c:\\users\\gujaa\\pycharmprojects\\webdocs\\venv\\lib\\site-packages (from bs4) (4.11.1)\n",
      "Requirement already satisfied: soupsieve>1.2 in c:\\users\\gujaa\\pycharmprojects\\webdocs\\venv\\lib\\site-packages (from beautifulsoup4->bs4) (2.3.2.post1)\n"
     ]
    },
    {
     "name": "stderr",
     "output_type": "stream",
     "text": [
      "WARNING: You are using pip version 21.3.1; however, version 22.1.1 is available.\n",
      "You should consider upgrading via the 'C:\\Users\\gujaa\\PycharmProjects\\webdocs\\venv\\Scripts\\python.exe -m pip install --upgrade pip' command.\n"
     ]
    },
    {
     "name": "stdout",
     "output_type": "stream",
     "text": [
      "Requirement already satisfied: requests in c:\\users\\gujaa\\pycharmprojects\\webdocs\\venv\\lib\\site-packages (2.27.1)\n",
      "Requirement already satisfied: urllib3<1.27,>=1.21.1 in c:\\users\\gujaa\\pycharmprojects\\webdocs\\venv\\lib\\site-packages (from requests) (1.26.9)\n",
      "Requirement already satisfied: idna<4,>=2.5 in c:\\users\\gujaa\\pycharmprojects\\webdocs\\venv\\lib\\site-packages (from requests) (3.3)\n",
      "Requirement already satisfied: charset-normalizer~=2.0.0 in c:\\users\\gujaa\\pycharmprojects\\webdocs\\venv\\lib\\site-packages (from requests) (2.0.12)\n",
      "Requirement already satisfied: certifi>=2017.4.17 in c:\\users\\gujaa\\pycharmprojects\\webdocs\\venv\\lib\\site-packages (from requests) (2022.5.18.1)\n"
     ]
    },
    {
     "name": "stderr",
     "output_type": "stream",
     "text": [
      "WARNING: You are using pip version 21.3.1; however, version 22.1.1 is available.\n",
      "You should consider upgrading via the 'C:\\Users\\gujaa\\PycharmProjects\\webdocs\\venv\\Scripts\\python.exe -m pip install --upgrade pip' command.\n"
     ]
    }
   ],
   "source": [
    "!pip install bs4 \n",
    "!pip install requests\n"
   ]
  },
  {
   "cell_type": "code",
   "execution_count": 5,
   "id": "e5e0398c-497d-4c41-9280-b8a853ee4ed7",
   "metadata": {},
   "outputs": [],
   "source": [
    "from bs4 import BeautifulSoup\n",
    "import requests"
   ]
  },
  {
   "cell_type": "code",
   "execution_count": 6,
   "id": "b0aa6adf-7cb0-43b7-8976-35fbe41ee590",
   "metadata": {},
   "outputs": [
    {
     "ename": "AttributeError",
     "evalue": "'function' object has no attribute 'urlretrieve'",
     "output_type": "error",
     "traceback": [
      "\u001b[1;31m---------------------------------------------------------------------------\u001b[0m",
      "\u001b[1;31mAttributeError\u001b[0m                            Traceback (most recent call last)",
      "Input \u001b[1;32mIn [6]\u001b[0m, in \u001b[0;36m<cell line: 1>\u001b[1;34m()\u001b[0m\n\u001b[1;32m----> 1\u001b[0m \u001b[43mrequests\u001b[49m\u001b[38;5;241;43m.\u001b[39;49m\u001b[43mrequest\u001b[49m\u001b[38;5;241;43m.\u001b[39;49m\u001b[43murlretrieve\u001b[49m(\u001b[38;5;124m\"\u001b[39m\u001b[38;5;124mhttps://www.geeksforgeeks.org/grep-command-in-unixlinux/?ref=leftbar-rightbar\u001b[39m\u001b[38;5;124m\"\u001b[39m,\n\u001b[0;32m      2\u001b[0m                            \u001b[38;5;124m\"\u001b[39m\u001b[38;5;124m/home/gpt/PycharmProjects/pythonProject1/test/text_file.txt\u001b[39m\u001b[38;5;124m\"\u001b[39m)\n",
      "\u001b[1;31mAttributeError\u001b[0m: 'function' object has no attribute 'urlretrieve'"
     ]
    }
   ],
   "source": [
    "requests.request.urlretrieve(\"https://www.geeksforgeeks.org/grep-command-in-unixlinux/?ref=leftbar-rightbar\",\n",
    "                           \"/home/gpt/PycharmProjects/pythonProject1/test/text_file.txt\")"
   ]
  },
  {
   "cell_type": "code",
   "execution_count": 10,
   "id": "0da59824-141a-46ba-8661-99b6dd1579de",
   "metadata": {},
   "outputs": [],
   "source": [
    "response = requests.request('GET', 'https://www.geeksforgeeks.org/grep-command-in-unixlinux/?ref=leftbar-rightbar')"
   ]
  },
  {
   "cell_type": "code",
   "execution_count": 13,
   "id": "341ba3b5-147e-4ab5-b7c9-7385af0b486d",
   "metadata": {},
   "outputs": [
    {
     "data": {
      "text/plain": [
       "<generator object iter_slices at 0x000002CBE6C18900>"
      ]
     },
     "execution_count": 13,
     "metadata": {},
     "output_type": "execute_result"
    }
   ],
   "source": [
    "response.iter_content()"
   ]
  },
  {
   "cell_type": "code",
   "execution_count": 15,
   "id": "b555f4d8-d3af-4db0-8a7e-a4dc2058b172",
   "metadata": {},
   "outputs": [
    {
     "ename": "TypeError",
     "evalue": "object of type 'generator' has no len()",
     "output_type": "error",
     "traceback": [
      "\u001b[1;31m---------------------------------------------------------------------------\u001b[0m",
      "\u001b[1;31mTypeError\u001b[0m                                 Traceback (most recent call last)",
      "Input \u001b[1;32mIn [15]\u001b[0m, in \u001b[0;36m<cell line: 1>\u001b[1;34m()\u001b[0m\n\u001b[1;32m----> 1\u001b[0m soup \u001b[38;5;241m=\u001b[39m \u001b[43mBeautifulSoup\u001b[49m\u001b[43m(\u001b[49m\u001b[43mresponse\u001b[49m\u001b[38;5;241;43m.\u001b[39;49m\u001b[43miter_content\u001b[49m\u001b[43m(\u001b[49m\u001b[43m)\u001b[49m\u001b[43m,\u001b[49m\u001b[43m \u001b[49m\u001b[38;5;124;43m'\u001b[39;49m\u001b[38;5;124;43mhtml.parser\u001b[39;49m\u001b[38;5;124;43m'\u001b[39;49m\u001b[43m)\u001b[49m\n",
      "File \u001b[1;32m~\\PycharmProjects\\webdocs\\venv\\lib\\site-packages\\bs4\\__init__.py:313\u001b[0m, in \u001b[0;36mBeautifulSoup.__init__\u001b[1;34m(self, markup, features, builder, parse_only, from_encoding, exclude_encodings, element_classes, **kwargs)\u001b[0m\n\u001b[0;32m    311\u001b[0m \u001b[38;5;28;01mif\u001b[39;00m \u001b[38;5;28mhasattr\u001b[39m(markup, \u001b[38;5;124m'\u001b[39m\u001b[38;5;124mread\u001b[39m\u001b[38;5;124m'\u001b[39m):        \u001b[38;5;66;03m# It's a file-type object.\u001b[39;00m\n\u001b[0;32m    312\u001b[0m     markup \u001b[38;5;241m=\u001b[39m markup\u001b[38;5;241m.\u001b[39mread()\n\u001b[1;32m--> 313\u001b[0m \u001b[38;5;28;01melif\u001b[39;00m \u001b[38;5;28;43mlen\u001b[39;49m\u001b[43m(\u001b[49m\u001b[43mmarkup\u001b[49m\u001b[43m)\u001b[49m \u001b[38;5;241m<\u001b[39m\u001b[38;5;241m=\u001b[39m \u001b[38;5;241m256\u001b[39m \u001b[38;5;129;01mand\u001b[39;00m (\n\u001b[0;32m    314\u001b[0m         (\u001b[38;5;28misinstance\u001b[39m(markup, \u001b[38;5;28mbytes\u001b[39m) \u001b[38;5;129;01mand\u001b[39;00m \u001b[38;5;129;01mnot\u001b[39;00m \u001b[38;5;124mb\u001b[39m\u001b[38;5;124m'\u001b[39m\u001b[38;5;124m<\u001b[39m\u001b[38;5;124m'\u001b[39m \u001b[38;5;129;01min\u001b[39;00m markup)\n\u001b[0;32m    315\u001b[0m         \u001b[38;5;129;01mor\u001b[39;00m (\u001b[38;5;28misinstance\u001b[39m(markup, \u001b[38;5;28mstr\u001b[39m) \u001b[38;5;129;01mand\u001b[39;00m \u001b[38;5;129;01mnot\u001b[39;00m \u001b[38;5;124m'\u001b[39m\u001b[38;5;124m<\u001b[39m\u001b[38;5;124m'\u001b[39m \u001b[38;5;129;01min\u001b[39;00m markup)\n\u001b[0;32m    316\u001b[0m ):\n\u001b[0;32m    317\u001b[0m     \u001b[38;5;66;03m# Issue warnings for a couple beginner problems\u001b[39;00m\n\u001b[0;32m    318\u001b[0m     \u001b[38;5;66;03m# involving passing non-markup to Beautiful Soup.\u001b[39;00m\n\u001b[0;32m    319\u001b[0m     \u001b[38;5;66;03m# Beautiful Soup will still parse the input as markup,\u001b[39;00m\n\u001b[0;32m    320\u001b[0m     \u001b[38;5;66;03m# since that is sometimes the intended behavior.\u001b[39;00m\n\u001b[0;32m    321\u001b[0m     \u001b[38;5;28;01mif\u001b[39;00m \u001b[38;5;129;01mnot\u001b[39;00m \u001b[38;5;28mself\u001b[39m\u001b[38;5;241m.\u001b[39m_markup_is_url(markup):\n\u001b[0;32m    322\u001b[0m         \u001b[38;5;28mself\u001b[39m\u001b[38;5;241m.\u001b[39m_markup_resembles_filename(markup)                \n",
      "\u001b[1;31mTypeError\u001b[0m: object of type 'generator' has no len()"
     ]
    }
   ],
   "source": [
    "soup = BeautifulSoup(response.iter_content(), 'html.parser')\n"
   ]
  },
  {
   "cell_type": "code",
   "execution_count": 24,
   "id": "6156d24d-02ea-47c5-b77c-2d5516bc72f9",
   "metadata": {
    "collapsed": true,
    "jupyter": {
     "outputs_hidden": true
    },
    "tags": []
   },
   "outputs": [
    {
     "name": "stdout",
     "output_type": "stream",
     "text": [
      "Nikolai Janakiev\n",
      "Freelance Data Scientist and Data Engineer with a focus on Python, geospatial applications, routing, and all things data.\n",
      "\n",
      "      © 2022. All rights reserved.\n",
      "    \n",
      "Are you working with Jupyter Notebook and Python? Do you also want to benefit from virtual environments? In this tutorial you will see how to do just that with Anaconda or Virtualenv/venv.\n",
      "Before we start, what is a virtual environment and why do you need it? A virtual environment is an isolated working copy of Python. This means that each environment can have its own dependencies or even its own Python versions. This is useful if you need different versions of Python or packages for different projects. This also keeps things tidy when testing packages and making sure your main Python installation stays healthy.\n",
      "A commonly used tool for virtual environments in Python is virtualenv. Since Python 3.3, a subset of virtualenv has been integrated in the Python standard library under the venv module. If you are using Python 2, you can install virtualenv with:\n",
      "Now, you can create a virtual environment with:\n",
      "where myenv can be replaced with the name you want for your virtual environment. The virtual environment can be found in the myenv folder. For Python >= 3.3, you can create a virtual environment with:\n",
      "After you have created your virtual environment, you can activate the virtual environment with:\n",
      "To deactivate the virtual environment, you can run deactivate. To delete the virtual environment you just need to remove the folder with the virtual environment (e.g. rm -r myenv). For further information, have a read in the virtualenv documentation or venv documentation.\n",
      "Letâs have a look how to create an virtual environment with Anaconda. Anaconda is a Python (and R) distribution that has the goal to simplify package management and deployment for scientific computing. After the installation you can create the conda virtual environment with:\n",
      "where myenv is the name of your new environment. If you want a specific Python version that is not your current version, you can type:\n",
      "The environment is then stored in the envs folder in your Anaconda directory. After you have created the enviroment, you can activate it by typing:\n",
      "If you now run python, youâll see that you are in your freshly created virtual environment. To deactivate the environment you can type conda deactivate and you can list all the available environments on your machine with conda env list. To remove an enviroment you can type:\n",
      "After creating your environment, you can install the packages you need besides the one already installed by conda. You can find more information on how to manage conda environments in this user guide.\n",
      "Jupyter Notebook makes sure that the IPython kernel is available, but you have to manually add a kernel with a different version of Python or a virtual environment. First, make sure your environment is activated with conda activate myenv. Next, install ipykernel which provides the IPython kernel for Jupyter:\n",
      "Next you can add your virtual environment to Jupyter by typing:\n",
      "This should print the following:\n",
      "In this folder you will find a kernel.json file which should look the following way if you did everything correctly:\n",
      "Thatâs all to it! Now you are able to choose the conda environment as a kernel in Jupyter. Here is what that would look like in JupyterLab:\n",
      "\n",
      "After you deleted your virtual environment, youâll want to remove it also from Jupyter. Letâs first see which kernels are available. You can list them with:\n",
      "This should return something like:\n",
      "Now, to uninstall the kernel, you can type:\n"
     ]
    }
   ],
   "source": [
    "\n",
    "# import module\n",
    "import requests\n",
    "from bs4 import BeautifulSoup\n",
    "  \n",
    "# link for extract html data\n",
    "def getdata(url):\n",
    "    r = requests.get(url)\n",
    "    return r.text\n",
    "  \n",
    "\n"
   ]
  },
  {
   "cell_type": "code",
   "execution_count": 25,
   "id": "cb0d4d13-a922-444c-9790-06169482dbd5",
   "metadata": {},
   "outputs": [
    {
     "data": {
      "text/plain": [
       "['Nikolai Janakiev',\n",
       " 'Freelance Data Scientist and Data Engineer with a focus on Python, geospatial applications, routing, and all things data.',\n",
       " '\\n      © 2022. All rights reserved.\\n    ',\n",
       " 'Are you working with Jupyter Notebook and Python? Do you also want to benefit from virtual environments? In this tutorial you will see how to do just that with Anaconda or Virtualenv/venv.',\n",
       " 'Before we start, what is a virtual environment and why do you need it? A virtual environment is an isolated working copy of Python. This means that each environment can have its own dependencies or even its own Python versions. This is useful if you need different versions of Python or packages for different projects. This also keeps things tidy when testing packages and making sure your main Python installation stays healthy.',\n",
       " 'A commonly used tool for virtual environments in Python is virtualenv. Since Python 3.3, a subset of virtualenv has been integrated in the Python standard library under the venv module. If you are using Python 2, you can install virtualenv with:',\n",
       " 'Now, you can create a virtual environment with:',\n",
       " 'where myenv can be replaced with the name you want for your virtual environment. The virtual environment can be found in the myenv folder. For Python >= 3.3, you can create a virtual environment with:',\n",
       " 'After you have created your virtual environment, you can activate the virtual environment with:',\n",
       " 'To deactivate the virtual environment, you can run deactivate. To delete the virtual environment you just need to remove the folder with the virtual environment (e.g. rm -r myenv). For further information, have a read in the virtualenv documentation or venv documentation.',\n",
       " 'Letâ\\x80\\x99s have a look how to create an virtual environment with Anaconda. Anaconda is a Python (and R) distribution that has the goal to simplify package management and deployment for scientific computing. After the installation you can create the conda virtual environment with:',\n",
       " 'where myenv is the name of your new environment. If you want a specific Python version that is not your current version, you can type:',\n",
       " 'The environment is then stored in the envs folder in your Anaconda directory. After you have created the enviroment, you can activate it by typing:',\n",
       " 'If you now run python, youâ\\x80\\x99ll see that you are in your freshly created virtual environment. To deactivate the environment you can type conda deactivate and you can list all the available environments on your machine with conda env list. To remove an enviroment you can type:',\n",
       " 'After creating your environment, you can install the packages you need besides the one already installed by conda. You can find more information on how to manage conda environments in this user guide.',\n",
       " 'Jupyter Notebook makes sure that the IPython kernel is available, but you have to manually add a kernel with a different version of Python or a virtual environment. First, make sure your environment is activated with conda activate myenv. Next, install ipykernel which provides the IPython kernel for Jupyter:',\n",
       " 'Next you can add your virtual environment to Jupyter by typing:',\n",
       " 'This should print the following:',\n",
       " 'In this folder you will find a kernel.json file which should look the following way if you did everything correctly:',\n",
       " 'Thatâ\\x80\\x99s all to it! Now you are able to choose the conda environment as a kernel in Jupyter. Here is what that would look like in JupyterLab:',\n",
       " '',\n",
       " 'After you deleted your virtual environment, youâ\\x80\\x99ll want to remove it also from Jupyter. Letâ\\x80\\x99s first see which kernels are available. You can list them with:',\n",
       " 'This should return something like:',\n",
       " 'Now, to uninstall the kernel, you can type:']"
      ]
     },
     "execution_count": 25,
     "metadata": {},
     "output_type": "execute_result"
    }
   ],
   "source": [
    "htmldata = getdata(\"https://janakiev.com/blog/jupyter-virtual-envs/\")\n",
    "soup = BeautifulSoup(htmldata, 'html.parser')\n",
    "data = ''\n",
    "[data.get_text() for data in soup.find_all(\"p\")]"
   ]
  },
  {
   "cell_type": "code",
   "execution_count": null,
   "id": "33df160b-912e-4d4f-a20b-619f06368898",
   "metadata": {},
   "outputs": [],
   "source": []
  }
 ],
 "metadata": {
  "kernelspec": {
   "display_name": "webdocs_env",
   "language": "python",
   "name": "webdocs_env"
  },
  "language_info": {
   "codemirror_mode": {
    "name": "ipython",
    "version": 3
   },
   "file_extension": ".py",
   "mimetype": "text/x-python",
   "name": "python",
   "nbconvert_exporter": "python",
   "pygments_lexer": "ipython3",
   "version": "3.10.4"
  }
 },
 "nbformat": 4,
 "nbformat_minor": 5
}
